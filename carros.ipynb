{
 "cells": [
  {
   "cell_type": "code",
   "execution_count": 3,
   "metadata": {},
   "outputs": [
    {
     "name": "stdout",
     "output_type": "stream",
     "text": [
      "Criando um objeto da classe carro \n"
     ]
    }
   ],
   "source": [
    "class Carro:\n",
    "    #Método construtor \n",
    "    def __init__(self ,marca ,modelo, ano ):\n",
    "        self.marca = marca #Atributo\n",
    "        self.modelo = modelo #Atributo\n",
    "        self.ano = ano #atributo\n",
    "        self.ligado = False #Atributo co valor padrão \n",
    "\n",
    "    def exibir_info(self):\n",
    "        if self.ligado == True :\n",
    "            status = \"ligado\"\n",
    "        else: \n",
    "            status = \"Desligado\"    \n",
    "\n",
    "    def ligar (self):\n",
    "        self.ligado =True\n",
    "        print(f\"O carro está ligado . \")\n",
    "\n",
    "    def desligar (self):\n",
    "        self.desligar=False       \n",
    "        print(f\"O carro está desligado . \") \n",
    "\n",
    "if __name__==\"__main__\":\n",
    "    #Criando um objeto da classe carro\n",
    "    print(f\"Criando um objeto da classe carro \")\n",
    "    meu_carro = Carro (\"Palio\",\"Fiat\",\"2008\")\n",
    "    meu_carro.ligar\n",
    "\n",
    "\n"
   ]
  }
 ],
 "metadata": {
  "kernelspec": {
   "display_name": "Python 3",
   "language": "python",
   "name": "python3"
  },
  "language_info": {
   "codemirror_mode": {
    "name": "ipython",
    "version": 3
   },
   "file_extension": ".py",
   "mimetype": "text/x-python",
   "name": "python",
   "nbconvert_exporter": "python",
   "pygments_lexer": "ipython3",
   "version": "3.10.5"
  }
 },
 "nbformat": 4,
 "nbformat_minor": 2
}
